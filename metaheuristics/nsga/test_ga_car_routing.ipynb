{
 "cells": [
  {
   "cell_type": "code",
   "execution_count": 5,
   "id": "80d79e95",
   "metadata": {},
   "outputs": [],
   "source": [
    "import sys\n",
    "sys.path.append(r\"c:\\BAO\\metaheuristics\")\n",
    "\n",
    "from nsga.main import NSGAII\n",
    "import networkx as nx\n",
    "import pandas as pd\n",
    "import random"
   ]
  },
  {
   "cell_type": "code",
   "execution_count": 14,
   "id": "ee3f3506",
   "metadata": {},
   "outputs": [
    {
     "name": "stdout",
     "output_type": "stream",
     "text": [
      "Cargando grafo desde archivo...\n",
      "Cargando datos de las aristas...\n",
      "Forzando la ejecución con la ruta 1: Nodo origen 25552320, Nodo destino 996184096\n",
      "Ruta más corta encontrada: [25552320, 25552322, 25552324, 150541906, 25552326, 25552369, 25552357, 25552336, 25552371, 25552373, 150540591, 996184096]\n",
      "Inicializando NSGA-II...\n",
      "Ejecutando NSGA-II...\n"
     ]
    },
    {
     "ename": "ValueError",
     "evalue": "Sample larger than population or is negative",
     "output_type": "error",
     "traceback": [
      "\u001b[1;31m---------------------------------------------------------------------------\u001b[0m",
      "\u001b[1;31mValueError\u001b[0m                                Traceback (most recent call last)",
      "Cell \u001b[1;32mIn[14], line 58\u001b[0m\n\u001b[0;32m     47\u001b[0m nsga2 \u001b[38;5;241m=\u001b[39m NSGAII(\n\u001b[0;32m     48\u001b[0m     graph\u001b[38;5;241m=\u001b[39mgraph,\n\u001b[0;32m     49\u001b[0m     edges_gdf\u001b[38;5;241m=\u001b[39medges_gdf,\n\u001b[1;32m   (...)\u001b[0m\n\u001b[0;32m     54\u001b[0m     route_length\u001b[38;5;241m=\u001b[39mroute_length\n\u001b[0;32m     55\u001b[0m )\n\u001b[0;32m     57\u001b[0m \u001b[38;5;28mprint\u001b[39m(\u001b[38;5;124m\"\u001b[39m\u001b[38;5;124mEjecutando NSGA-II...\u001b[39m\u001b[38;5;124m\"\u001b[39m)\n\u001b[1;32m---> 58\u001b[0m \u001b[43mnsga2\u001b[49m\u001b[38;5;241;43m.\u001b[39;49m\u001b[43mevolve\u001b[49m\u001b[43m(\u001b[49m\u001b[43m)\u001b[49m\n\u001b[0;32m     60\u001b[0m \u001b[38;5;66;03m# 4. Mostrar las soluciones finales\u001b[39;00m\n\u001b[0;32m     61\u001b[0m \u001b[38;5;28mprint\u001b[39m(\u001b[38;5;124m\"\u001b[39m\u001b[38;5;130;01m\\n\u001b[39;00m\u001b[38;5;124mSoluciones finales:\u001b[39m\u001b[38;5;124m\"\u001b[39m)\n",
      "File \u001b[1;32mc:\\BAO\\metaheuristics\\nsga\\main.py:121\u001b[0m, in \u001b[0;36mNSGAII.evolve\u001b[1;34m(self)\u001b[0m\n\u001b[0;32m    119\u001b[0m \u001b[38;5;28;01mdef\u001b[39;00m\u001b[38;5;250m \u001b[39m\u001b[38;5;21mevolve\u001b[39m(\u001b[38;5;28mself\u001b[39m):\n\u001b[0;32m    120\u001b[0m     \u001b[38;5;28;01mfor\u001b[39;00m generation \u001b[38;5;129;01min\u001b[39;00m \u001b[38;5;28mrange\u001b[39m(\u001b[38;5;28mself\u001b[39m\u001b[38;5;241m.\u001b[39mgenerations):\n\u001b[1;32m--> 121\u001b[0m         offspring \u001b[38;5;241m=\u001b[39m \u001b[38;5;28;43mself\u001b[39;49m\u001b[38;5;241;43m.\u001b[39;49m\u001b[43mgenerate_offspring\u001b[49m\u001b[43m(\u001b[49m\u001b[43m)\u001b[49m\n\u001b[0;32m    122\u001b[0m         combined_population \u001b[38;5;241m=\u001b[39m \u001b[38;5;28mself\u001b[39m\u001b[38;5;241m.\u001b[39mpopulation \u001b[38;5;241m+\u001b[39m offspring\n\u001b[0;32m    123\u001b[0m         fronts \u001b[38;5;241m=\u001b[39m \u001b[38;5;28mself\u001b[39m\u001b[38;5;241m.\u001b[39mnon_dominated_sort(combined_population)\n",
      "File \u001b[1;32mc:\\BAO\\metaheuristics\\nsga\\main.py:137\u001b[0m, in \u001b[0;36mNSGAII.generate_offspring\u001b[1;34m(self)\u001b[0m\n\u001b[0;32m    135\u001b[0m offspring \u001b[38;5;241m=\u001b[39m []\n\u001b[0;32m    136\u001b[0m \u001b[38;5;28;01mwhile\u001b[39;00m \u001b[38;5;28mlen\u001b[39m(offspring) \u001b[38;5;241m<\u001b[39m \u001b[38;5;28mself\u001b[39m\u001b[38;5;241m.\u001b[39mpopulation_size:\n\u001b[1;32m--> 137\u001b[0m     parent1 \u001b[38;5;241m=\u001b[39m \u001b[38;5;28;43mself\u001b[39;49m\u001b[38;5;241;43m.\u001b[39;49m\u001b[43mtournament_selection\u001b[49m\u001b[43m(\u001b[49m\u001b[43m)\u001b[49m\n\u001b[0;32m    138\u001b[0m     parent2 \u001b[38;5;241m=\u001b[39m \u001b[38;5;28mself\u001b[39m\u001b[38;5;241m.\u001b[39mtournament_selection()\n\u001b[0;32m    139\u001b[0m     child \u001b[38;5;241m=\u001b[39m \u001b[38;5;28mself\u001b[39m\u001b[38;5;241m.\u001b[39mcrossover(parent1, parent2)\n",
      "File \u001b[1;32mc:\\BAO\\metaheuristics\\nsga\\main.py:147\u001b[0m, in \u001b[0;36mNSGAII.tournament_selection\u001b[1;34m(self)\u001b[0m\n\u001b[0;32m    145\u001b[0m \u001b[38;5;28;01mdef\u001b[39;00m\u001b[38;5;250m \u001b[39m\u001b[38;5;21mtournament_selection\u001b[39m(\u001b[38;5;28mself\u001b[39m):\n\u001b[0;32m    146\u001b[0m     k \u001b[38;5;241m=\u001b[39m \u001b[38;5;241m2\u001b[39m\n\u001b[1;32m--> 147\u001b[0m     selected \u001b[38;5;241m=\u001b[39m \u001b[43mrandom\u001b[49m\u001b[38;5;241;43m.\u001b[39;49m\u001b[43msample\u001b[49m\u001b[43m(\u001b[49m\u001b[38;5;28;43mrange\u001b[39;49m\u001b[43m(\u001b[49m\u001b[38;5;28;43mlen\u001b[39;49m\u001b[43m(\u001b[49m\u001b[38;5;28;43mself\u001b[39;49m\u001b[38;5;241;43m.\u001b[39;49m\u001b[43mpopulation\u001b[49m\u001b[43m)\u001b[49m\u001b[43m)\u001b[49m\u001b[43m,\u001b[49m\u001b[43m \u001b[49m\u001b[43mk\u001b[49m\u001b[43m)\u001b[49m\n\u001b[0;32m    148\u001b[0m     selected\u001b[38;5;241m.\u001b[39msort(key\u001b[38;5;241m=\u001b[39m\u001b[38;5;28;01mlambda\u001b[39;00m i: (\u001b[38;5;28mself\u001b[39m\u001b[38;5;241m.\u001b[39mnon_dominated_rank[i], \u001b[38;5;241m-\u001b[39m\u001b[38;5;28mself\u001b[39m\u001b[38;5;241m.\u001b[39mcrowding_distance[i]))\n\u001b[0;32m    149\u001b[0m     \u001b[38;5;28;01mreturn\u001b[39;00m \u001b[38;5;28mself\u001b[39m\u001b[38;5;241m.\u001b[39mpopulation[selected[\u001b[38;5;241m0\u001b[39m]]\n",
      "File \u001b[1;32mC:\\Program Files\\WindowsApps\\PythonSoftwareFoundation.Python.3.11_3.11.2544.0_x64__qbz5n2kfra8p0\\Lib\\random.py:456\u001b[0m, in \u001b[0;36mRandom.sample\u001b[1;34m(self, population, k, counts)\u001b[0m\n\u001b[0;32m    454\u001b[0m randbelow \u001b[38;5;241m=\u001b[39m \u001b[38;5;28mself\u001b[39m\u001b[38;5;241m.\u001b[39m_randbelow\n\u001b[0;32m    455\u001b[0m \u001b[38;5;28;01mif\u001b[39;00m \u001b[38;5;129;01mnot\u001b[39;00m \u001b[38;5;241m0\u001b[39m \u001b[38;5;241m<\u001b[39m\u001b[38;5;241m=\u001b[39m k \u001b[38;5;241m<\u001b[39m\u001b[38;5;241m=\u001b[39m n:\n\u001b[1;32m--> 456\u001b[0m     \u001b[38;5;28;01mraise\u001b[39;00m \u001b[38;5;167;01mValueError\u001b[39;00m(\u001b[38;5;124m\"\u001b[39m\u001b[38;5;124mSample larger than population or is negative\u001b[39m\u001b[38;5;124m\"\u001b[39m)\n\u001b[0;32m    457\u001b[0m result \u001b[38;5;241m=\u001b[39m [\u001b[38;5;28;01mNone\u001b[39;00m] \u001b[38;5;241m*\u001b[39m k\n\u001b[0;32m    458\u001b[0m setsize \u001b[38;5;241m=\u001b[39m \u001b[38;5;241m21\u001b[39m        \u001b[38;5;66;03m# size of a small set minus size of an empty list\u001b[39;00m\n",
      "\u001b[1;31mValueError\u001b[0m: Sample larger than population or is negative"
     ]
    }
   ],
   "source": [
    "import sys\n",
    "sys.path.append(r\"c:\\BAO\\metaheuristics\")\n",
    "\n",
    "import os\n",
    "from nsga.main import NSGAII\n",
    "import osmnx as ox\n",
    "import pandas as pd\n",
    "import networkx as nx\n",
    "import random\n",
    "\n",
    "# 1. Cargar el grafo y los datos de las aristas\n",
    "grafo_path = r\"c:\\BAO\\data\\madrid.graphml\"\n",
    "edges_path = r\"c:\\BAO\\data\\edges_clean.json\"\n",
    "\n",
    "# Verificar que los archivos existen\n",
    "assert os.path.exists(grafo_path), f\"El archivo {grafo_path} no existe.\"\n",
    "assert os.path.exists(edges_path), f\"El archivo {edges_path} no existe.\"\n",
    "\n",
    "print(\"Cargando grafo desde archivo...\")\n",
    "graph = ox.load_graphml(grafo_path)\n",
    "\n",
    "print(\"Cargando datos de las aristas...\")\n",
    "edges_gdf = pd.read_json(edges_path)\n",
    "\n",
    "# 2. Forzar la ejecución con la ruta 1\n",
    "# Datos de la ruta 1 (reemplaza estos valores con los correctos si los tienes)\n",
    "source = 25552320  # osmid del nodo de origen de la ruta 1\n",
    "target = 996184096  # osmid del nodo de destino de la ruta 1\n",
    "\n",
    "print(f\"Forzando la ejecución con la ruta 1: Nodo origen {source}, Nodo destino {target}\")\n",
    "\n",
    "# Verificar si existe una ruta más corta entre los nodos\n",
    "try:\n",
    "    shortest_path = nx.shortest_path(graph, source=source, target=target, weight=\"length\")\n",
    "    print(f\"Ruta más corta encontrada: {shortest_path}\")\n",
    "except nx.NetworkXNoPath:\n",
    "    print(\"No existe una ruta entre el origen y el destino.\")\n",
    "    shortest_path = []\n",
    "\n",
    "# 3. Configurar y ejecutar el algoritmo NSGA-II\n",
    "if shortest_path:\n",
    "    print(\"Inicializando NSGA-II...\")\n",
    "    population_size = 1\n",
    "    generations = 5\n",
    "    route_length = len(shortest_path)  # Usar la longitud de la ruta más corta como límite\n",
    "\n",
    "    nsga2 = NSGAII(\n",
    "        graph=graph,\n",
    "        edges_gdf=edges_gdf,\n",
    "        source=source,\n",
    "        target=target,\n",
    "        population_size=population_size,\n",
    "        generations=generations,\n",
    "        route_length=route_length\n",
    "    )\n",
    "\n",
    "    print(\"Ejecutando NSGA-II...\")\n",
    "    nsga2.evolve()\n",
    "\n",
    "    # 4. Mostrar las soluciones finales\n",
    "    print(\"\\nSoluciones finales:\")\n",
    "    for route in nsga2.population:\n",
    "        objectives = nsga2.evaluate_objectives(route)\n",
    "        print(f\"Ruta: {route}\")\n",
    "        print(f\"Objetivos (Distancia, Tiempo, Consumo): {objectives}\")\n",
    "\n",
    "    # 5. Visualizar las rutas\n",
    "    import matplotlib.pyplot as plt\n",
    "\n",
    "    print(\"Visualizando el grafo y las rutas...\")\n",
    "    pos = nx.spring_layout(graph)\n",
    "    nx.draw(graph, pos, with_labels=True, node_color='lightblue', node_size=500, font_size=10)\n",
    "    nx.draw_networkx_edge_labels(graph, pos, edge_labels={(u, v): f\"{d['length']}m\" for u, v, d in graph.edges(data=True)})\n",
    "\n",
    "    # Dibujar las rutas del frente de Pareto\n",
    "    for route in nsga2.population:\n",
    "        best_nodes = [u for u, v, k in route] + [route[-1][1]]\n",
    "        nx.draw_networkx_nodes(graph, pos, nodelist=best_nodes, node_color='orange', node_size=700)\n",
    "    plt.show()\n",
    "else:\n",
    "    print(\"No se puede ejecutar NSGA-II porque no existe una ruta válida entre los nodos seleccionados.\")"
   ]
  }
 ],
 "metadata": {
  "kernelspec": {
   "display_name": "Python 3",
   "language": "python",
   "name": "python3"
  },
  "language_info": {
   "codemirror_mode": {
    "name": "ipython",
    "version": 3
   },
   "file_extension": ".py",
   "mimetype": "text/x-python",
   "name": "python",
   "nbconvert_exporter": "python",
   "pygments_lexer": "ipython3",
   "version": "3.11.9"
  }
 },
 "nbformat": 4,
 "nbformat_minor": 5
}
